{
 "cells": [
  {
   "cell_type": "markdown",
   "metadata": {},
   "source": [
    "## Task 3: Store Cleaned Data in postgress"
   ]
  },
  {
   "cell_type": "code",
   "execution_count": 5,
   "metadata": {},
   "outputs": [],
   "source": [
    "import os\n",
    "import sys\n",
    "\n",
    "system_path = os.path.abspath('..')\n",
    "if system_path not in sys.path:\n",
    "    sys.path.append(system_path)\n",
    "%load_ext autoreload\n",
    "%autoreload 2\n",
    "from scripts.database.database_setup import DatabaseManager"
   ]
  },
  {
   "cell_type": "code",
   "execution_count": 6,
   "metadata": {},
   "outputs": [
    {
     "name": "stderr",
     "output_type": "stream",
     "text": [
      "INFO:scripts.database.database_setup:Successfully connected to PostgreSQL database\n"
     ]
    }
   ],
   "source": [
    "database = DatabaseManager(\n",
    "    username='postgres',\n",
    "    password='postgres@123',\n",
    "    host='localhost',\n",
    "    port='5432',\n",
    "    database='bank_reviews'\n",
    ")"
   ]
  },
  {
   "cell_type": "code",
   "execution_count": 7,
   "metadata": {},
   "outputs": [
    {
     "name": "stderr",
     "output_type": "stream",
     "text": [
      "INFO:scripts.database.database_setup:Successfully created database tables\n"
     ]
    }
   ],
   "source": [
    "# Create tables \n",
    "database.create_tables()"
   ]
  },
  {
   "cell_type": "code",
   "execution_count": 9,
   "metadata": {},
   "outputs": [],
   "source": [
    "import pandas as pd\n",
    "\n",
    "review_data = pd.read_csv('../data/processed/sentiment_review.csv')"
   ]
  },
  {
   "cell_type": "code",
   "execution_count": 19,
   "metadata": {},
   "outputs": [
    {
     "data": {
      "text/plain": [
       "1"
      ]
     },
     "execution_count": 19,
     "metadata": {},
     "output_type": "execute_result"
    }
   ],
   "source": [
    "database.insert_bank(\"Wugagen Bank\")"
   ]
  },
  {
   "cell_type": "code",
   "execution_count": 20,
   "metadata": {},
   "outputs": [],
   "source": [
    "# Insert banks name \n",
    "for bank_name in review_data['app_name'].unique():\n",
    "    # Generate bank_code from bank_name (e.g., \"Commercial Bank of Ethiopia\" -> \"cbe\"\n",
    "    database.insert_bank(str(bank_name))"
   ]
  },
  {
   "cell_type": "code",
   "execution_count": 22,
   "metadata": {},
   "outputs": [
    {
     "data": {
      "text/plain": [
       "Index(['review', 'rating', 'review_date', 'app_name', 'source',\n",
       "       'preprocessed_review', 'sentiment_veder_label', 'sentiment_veder_score',\n",
       "       'sentiment_distilbert_label', 'sentiment_distilbert_score',\n",
       "       'primary_theme', 'theme_scores', 'topic_id', 'topic_probabilities',\n",
       "       'topic_keywords'],\n",
       "      dtype='object')"
      ]
     },
     "execution_count": 22,
     "metadata": {},
     "output_type": "execute_result"
    }
   ],
   "source": [
    "review_data.columns"
   ]
  },
  {
   "cell_type": "code",
   "execution_count": null,
   "metadata": {},
   "outputs": [],
   "source": [
    "database.bulk_insert_reviews(review_data)\n",
    "print(f\"Successfully inserted {len(review_data)} reviews\")"
   ]
  }
 ],
 "metadata": {
  "kernelspec": {
   "display_name": "Python 3",
   "language": "python",
   "name": "python3"
  },
  "language_info": {
   "codemirror_mode": {
    "name": "ipython",
    "version": 3
   },
   "file_extension": ".py",
   "mimetype": "text/x-python",
   "name": "python",
   "nbconvert_exporter": "python",
   "pygments_lexer": "ipython3",
   "version": "3.13.1"
  }
 },
 "nbformat": 4,
 "nbformat_minor": 2
}
