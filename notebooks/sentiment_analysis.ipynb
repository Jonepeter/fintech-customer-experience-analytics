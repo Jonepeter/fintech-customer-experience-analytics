{
 "cells": [
  {
   "cell_type": "markdown",
   "id": "da583160",
   "metadata": {},
   "source": [
    "### **Task 2: Sentiment and Thematic Analysis**\n",
    "- Description: Quantify review sentiment and identify themes to uncover satisfaction drivers and pain points."
   ]
  },
  {
   "cell_type": "code",
   "execution_count": 2,
   "id": "a760b292",
   "metadata": {},
   "outputs": [],
   "source": [
    "import os \n",
    "import sys\n",
    "\n",
    "system_path = os.path.abspath(\"..\")\n",
    "if system_path not in sys.path:\n",
    "    sys.path.append(system_path)\n",
    "\n",
    "%load_ext autoreload\n",
    "%autoreload 2\n",
    "from scripts.sentiment.sentiment_analysis import SentimentAnalyzer\n",
    "from scripts.data.preprocess import PreprocessReview"
   ]
  },
  {
   "cell_type": "code",
   "execution_count": 3,
   "id": "8f9db325",
   "metadata": {},
   "outputs": [
    {
     "name": "stderr",
     "output_type": "stream",
     "text": [
      "[nltk_data] Downloading package punkt to\n",
      "[nltk_data]     C:\\Users\\jonep\\AppData\\Roaming\\nltk_data...\n",
      "[nltk_data]   Package punkt is already up-to-date!\n",
      "[nltk_data] Downloading package stopwords to\n",
      "[nltk_data]     C:\\Users\\jonep\\AppData\\Roaming\\nltk_data...\n",
      "[nltk_data]   Package stopwords is already up-to-date!\n",
      "[nltk_data] Downloading package wordnet to\n",
      "[nltk_data]     C:\\Users\\jonep\\AppData\\Roaming\\nltk_data...\n",
      "[nltk_data]   Package wordnet is already up-to-date!\n",
      "INFO:scripts.sentiment.sentiment_analysis:Sentiment analysis models loaded successfully\n"
     ]
    }
   ],
   "source": [
    "preprocess = PreprocessReview()\n",
    "sentiment = SentimentAnalyzer()"
   ]
  },
  {
   "cell_type": "markdown",
   "id": "82f7ff93",
   "metadata": {},
   "source": [
    "- **Load Review Data** - Reading or Loading cleaned data  "
   ]
  },
  {
   "cell_type": "code",
   "execution_count": 8,
   "id": "3371f58e",
   "metadata": {},
   "outputs": [],
   "source": [
    "bank_review = preprocess.load_data('../data/processed/cleaned_bank_review.csv')"
   ]
  },
  {
   "cell_type": "code",
   "execution_count": 9,
   "id": "59c11071",
   "metadata": {},
   "outputs": [],
   "source": [
    "clean_bank_review = preprocess.preprocess_reviews(bank_review, 'review')\n",
    "clean_bank_review"
   ]
  },
  {
   "cell_type": "code",
   "execution_count": null,
   "id": "08e0774d",
   "metadata": {},
   "outputs": [],
   "source": [
    "clean_bank_review = sentiment.analyze_with_distilbert(clean_bank_review['preprocessed_review'])"
   ]
  },
  {
   "cell_type": "markdown",
   "id": "624e562a",
   "metadata": {},
   "source": [
    "- Applying Distilbert based sentiment analysis"
   ]
  },
  {
   "cell_type": "code",
   "execution_count": null,
   "id": "f4505910",
   "metadata": {},
   "outputs": [],
   "source": [
    "clean_bank_review['distilbert'] = clean_bank_review['preprocessed_review'].apply(sentiment.analyze_with_distilbert)\n"
   ]
  },
  {
   "cell_type": "code",
   "execution_count": null,
   "id": "5b5edf96",
   "metadata": {},
   "outputs": [],
   "source": [
    "clean_bank_review"
   ]
  },
  {
   "cell_type": "code",
   "execution_count": null,
   "id": "bec82f9c",
   "metadata": {},
   "outputs": [],
   "source": []
  },
  {
   "cell_type": "code",
   "execution_count": 4,
   "id": "3f85aff6",
   "metadata": {},
   "outputs": [
    {
     "data": {
      "text/plain": [
       "'NEGATIVE'"
      ]
     },
     "execution_count": 4,
     "metadata": {},
     "output_type": "execute_result"
    }
   ],
   "source": [
    "import torch\n",
    "from transformers import DistilBertTokenizer, DistilBertForSequenceClassification\n",
    "\n",
    "tokenizer = DistilBertTokenizer.from_pretrained(\"distilbert-base-uncased-finetuned-sst-2-english\")\n",
    "model = DistilBertForSequenceClassification.from_pretrained(\"distilbert-base-uncased-finetuned-sst-2-english\")\n",
    "\n",
    "inputs = tokenizer(\"Hello, my dog isn't happy\", return_tensors=\"pt\")\n",
    "with torch.no_grad():\n",
    "    logits = model(**inputs).logits\n",
    "\n",
    "predicted_class_id = logits.argmax().item()\n",
    "model.config.id2label[predicted_class_id]"
   ]
  },
  {
   "cell_type": "code",
   "execution_count": 5,
   "id": "1dfa1f0e",
   "metadata": {},
   "outputs": [
    {
     "data": {
      "text/plain": [
       "{'input_ids': tensor([[ 101, 7592, 1010, 2026, 3899, 3475, 1005, 1056, 3407,  102]]), 'attention_mask': tensor([[1, 1, 1, 1, 1, 1, 1, 1, 1, 1]])}"
      ]
     },
     "execution_count": 5,
     "metadata": {},
     "output_type": "execute_result"
    }
   ],
   "source": [
    "inputs"
   ]
  },
  {
   "cell_type": "code",
   "execution_count": null,
   "id": "968465a2",
   "metadata": {},
   "outputs": [],
   "source": []
  },
  {
   "cell_type": "code",
   "execution_count": null,
   "id": "cf3c1611",
   "metadata": {},
   "outputs": [],
   "source": []
  }
 ],
 "metadata": {
  "kernelspec": {
   "display_name": "Python 3",
   "language": "python",
   "name": "python3"
  },
  "language_info": {
   "codemirror_mode": {
    "name": "ipython",
    "version": 3
   },
   "file_extension": ".py",
   "mimetype": "text/x-python",
   "name": "python",
   "nbconvert_exporter": "python",
   "pygments_lexer": "ipython3",
   "version": "3.13.1"
  }
 },
 "nbformat": 4,
 "nbformat_minor": 5
}
