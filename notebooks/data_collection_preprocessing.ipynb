{
 "cells": [
  {
   "cell_type": "markdown",
   "id": "af6dc937",
   "metadata": {},
   "source": [
    "## **Task 1: Data Collection and Preprocessing**\n",
    "- **`Objective:`**\n",
    "  - Scrape and preprocess Google Play Store reviews for three banks (1,200+ total reviews) to create a clean dataset for sentiment analysis.\n",
    "  - "
   ]
  },
  {
   "cell_type": "code",
   "execution_count": 4,
   "id": "983ec0a8",
   "metadata": {},
   "outputs": [
    {
     "name": "stdout",
     "output_type": "stream",
     "text": [
      "The autoreload extension is already loaded. To reload it, use:\n",
      "  %reload_ext autoreload\n"
     ]
    }
   ],
   "source": [
    "# Import required files \n",
    "import os \n",
    "import sys\n",
    "\n",
    "system_path = os.path.abspath('..')\n",
    "if system_path not in sys.path:\n",
    "    sys.path.append(system_path)\n",
    "\n",
    "%load_ext autoreload\n",
    "%autoreload 2\n",
    "\n",
    "from scripts.data.scraping import scrape_play_store_reviews\n",
    "from scripts.data.preprocess_review import merge_datasets, load_data, handling_missing_data, remove_duplicates, normalize_dates\n",
    "from scripts.visualization import basic_plots"
   ]
  },
  {
   "cell_type": "code",
   "execution_count": 13,
   "id": "6d400159",
   "metadata": {},
   "outputs": [
    {
     "name": "stdout",
     "output_type": "stream",
     "text": [
      "Number of CBE Review: 7499\n",
      "Number of Abyssinia Review: 1045\n",
      "Number of Dashen Review: 448\n"
     ]
    }
   ],
   "source": [
    "# CBE application review scrapping \n",
    "cbe_review = scrape_play_store_reviews(\"com.combanketh.mobilebanking\")\n",
    "print(f\"Number of CBE Review: {cbe_review.shape[0]}\")\n",
    "cbe_review.to_csv(\"../data/raw/cbe_review.csv\", index=False)\n",
    "\n",
    "# Abyssinia Bank review scrapping \n",
    "abyssinia_review = scrape_play_store_reviews(\"com.boa.boaMobileBanking\")\n",
    "print(f\"Number of Abyssinia Review: {abyssinia_review.shape[0]}\")\n",
    "abyssinia_review.to_csv(\"../data/raw/abyssinia_bank_review.csv\", index=False)\n",
    "\n",
    "# Dashen Bank review scrapping \n",
    "dashen_review = scrape_play_store_reviews(\"com.dashen.dashensuperapp\")\n",
    "print(f\"Number of Dashen Review: {dashen_review.shape[0]}\")\n",
    "dashen_review.to_csv(\"../data/raw/dashen_bank_review.csv\", index=False)"
   ]
  },
  {
   "cell_type": "markdown",
   "id": "a19af083",
   "metadata": {},
   "source": [
    "### loading raw mobile banking apps review "
   ]
  },
  {
   "cell_type": "code",
   "execution_count": 14,
   "id": "d2703e8c",
   "metadata": {},
   "outputs": [
    {
     "name": "stdout",
     "output_type": "stream",
     "text": [
      "Data loaded successfully.\n",
      "Data loaded successfully.\n",
      "Data loaded successfully.\n"
     ]
    }
   ],
   "source": [
    "# loading raw data's  \n",
    "cbe_review_data = load_data('../data/raw/cbe_review.csv')\n",
    "dashen_review_data = load_data('../data/raw/dashen_bank_review.csv')\n",
    "abyssinia_review_data = load_data('../data/raw/abyssinia_bank_review.csv')"
   ]
  },
  {
   "cell_type": "markdown",
   "id": "8a0ace67",
   "metadata": {},
   "source": [
    "### Preprocessing the review datasets "
   ]
  },
  {
   "cell_type": "code",
   "execution_count": 15,
   "id": "e0a645d1",
   "metadata": {},
   "outputs": [
    {
     "name": "stdout",
     "output_type": "stream",
     "text": [
      "Datasets merged successfully.\n"
     ]
    },
    {
     "data": {
      "application/vnd.microsoft.datawrangler.viewer.v0+json": {
       "columns": [
        {
         "name": "index",
         "rawType": "int64",
         "type": "integer"
        },
        {
         "name": "reviewId",
         "rawType": "object",
         "type": "string"
        },
        {
         "name": "review",
         "rawType": "object",
         "type": "unknown"
        },
        {
         "name": "rating",
         "rawType": "int64",
         "type": "integer"
        },
        {
         "name": "thumbsUpCount",
         "rawType": "int64",
         "type": "integer"
        },
        {
         "name": "review_date",
         "rawType": "object",
         "type": "string"
        },
        {
         "name": "app_name",
         "rawType": "object",
         "type": "string"
        },
        {
         "name": "app_version",
         "rawType": "object",
         "type": "string"
        }
       ],
       "ref": "691e1994-d9ae-40aa-b62d-9d7610b5cd04",
       "rows": [
        [
         "0",
         "dd9f9e37-177a-46df-b877-d0edaa9aed29",
         "I cannot send to cbebirr app. through this app.",
         "3",
         "0",
         "2025-06-05 11:12:49",
         "Commercial Bank of Ethiopia",
         "5.1.0"
        ],
        [
         "1",
         "8e34703c-203c-4180-8b32-bfd0b3f0c871",
         "good",
         "4",
         "0",
         "2025-06-05 10:21:59",
         "Commercial Bank of Ethiopia",
         "5.1.0"
        ],
        [
         "2",
         "6f0c7fa2-3ce1-4310-b135-54fe0cb9fccd",
         "not functional",
         "1",
         "0",
         "2025-06-05 07:38:12",
         "Commercial Bank of Ethiopia",
         "5.1.0"
        ],
        [
         "3",
         "f0dd744a-9409-4619-9800-7ea501571b09",
         "everytime you uninstall the app you have to reach them out physically. very oldy! if that's one of security layer, they'd check for fraud attempt via app source directly(source:- app store, play store ... etc) implicitly ! we are in 2025, physical presence for every app install is traditional(traditionally very rare).",
         "1",
         "0",
         "2025-06-04 21:33:36",
         "Commercial Bank of Ethiopia",
         "5.1.0"
        ],
        [
         "4",
         "3949d8e0-7ac4-4b43-b4f4-a45d6a888a85",
         "አካውንት የምናስገባበት ቦታ ስም ጽፈን ነው ከዚህ በፊት የላክንባቸውን አካዉንቶች የምንፈልገዉ ነገር ግን አዲስ አካውንቶች mr ብለዉ የሚጀምሩ በዝተዋል ግን አፕልኬሽኑ space ስንጽፍ አይቀበልም ቢስተካከል",
         "4",
         "0",
         "2025-06-04 20:54:30",
         "Commercial Bank of Ethiopia",
         "5.1.0"
        ],
        [
         "5",
         "36f83ed0-3935-4ebd-98e5-34cf25095d32",
         "best",
         "5",
         "0",
         "2025-06-04 19:59:04",
         "Commercial Bank of Ethiopia",
         "5.1.0"
        ],
        [
         "6",
         "f2bb4b73-090e-4834-8c89-2263a1158c38",
         "bezabih",
         "5",
         "0",
         "2025-06-04 18:22:41",
         "Commercial Bank of Ethiopia",
         "5.1.0"
        ],
        [
         "7",
         "54f070b9-895f-40e8-be18-acb16f8af7fa",
         "Best Mobile Banking app ever",
         "5",
         "0",
         "2025-06-04 16:50:52",
         "Commercial Bank of Ethiopia",
         "5.1.0"
        ],
        [
         "8",
         "aa72fd94-aca8-48b2-bae2-29ad7633c7fb",
         "good",
         "5",
         "0",
         "2025-06-04 16:00:15",
         "Commercial Bank of Ethiopia",
         "5.1.0"
        ],
        [
         "9",
         "9af95d2a-e42c-45ff-a4c9-5c38765df4a4",
         "it was good app but it have some issues like it doesnt give me the right amount that I have in the bank and have some issues in transferring",
         "2",
         "0",
         "2025-06-04 15:56:02",
         "Commercial Bank of Ethiopia",
         "5.1.0"
        ],
        [
         "10",
         "067d3e52-3586-4e02-b088-0411f25d34fb",
         "dedeb",
         "5",
         "0",
         "2025-06-04 15:04:02",
         "Commercial Bank of Ethiopia",
         "5.1.0"
        ],
        [
         "11",
         "88a64315-9de3-4a35-ac27-5ff37c2833b6",
         "good",
         "5",
         "0",
         "2025-06-04 14:59:40",
         "Commercial Bank of Ethiopia",
         "5.1.0"
        ],
        [
         "12",
         "c2cf0ff7-85ac-4e7c-902d-a8c5a8d69e22",
         "Good",
         "5",
         "0",
         "2025-06-04 14:52:50",
         "Commercial Bank of Ethiopia",
         "5.1.0"
        ],
        [
         "13",
         "acadb124-d34c-4387-97e8-266200c78d4e",
         "👌👍",
         "5",
         "0",
         "2025-06-04 12:43:21",
         "Commercial Bank of Ethiopia",
         "5.1.0"
        ],
        [
         "14",
         "42eed344-f5b7-49be-a7eb-b1c14386e20b",
         "very niec",
         "5",
         "0",
         "2025-06-04 11:21:53",
         "Commercial Bank of Ethiopia",
         "5.1.0"
        ],
        [
         "15",
         "fce00cda-d71a-486e-a4c2-7479ab7793bc",
         "best app of finance",
         "5",
         "0",
         "2025-06-04 07:38:54",
         "Commercial Bank of Ethiopia",
         "5.1.0"
        ],
        [
         "16",
         "f543a13e-bc0f-4348-b57f-3a83eb67206c",
         "yetemeta",
         "1",
         "0",
         "2025-06-03 21:04:44",
         "Commercial Bank of Ethiopia",
         "5.1.0"
        ],
        [
         "17",
         "2470d199-834a-4134-a0f9-8c684ba75491",
         "Engida Kebede Fetera",
         "5",
         "0",
         "2025-06-03 20:20:23",
         "Commercial Bank of Ethiopia",
         "5.1.0"
        ],
        [
         "18",
         "4beee0dd-05ad-474c-bdff-0146723f2179",
         "good",
         "5",
         "0",
         "2025-06-03 11:32:52",
         "Commercial Bank of Ethiopia",
         "5.1.0"
        ],
        [
         "19",
         "428e5117-387f-4c9d-b095-3230e3f83a8a",
         "it is not safety",
         "1",
         "0",
         "2025-06-03 09:14:31",
         "Commercial Bank of Ethiopia",
         "5.1.0"
        ],
        [
         "20",
         "f897e474-f560-4cf9-b66b-48c455443bfe",
         "NICE bank",
         "5",
         "0",
         "2025-06-03 08:42:36",
         "Commercial Bank of Ethiopia",
         "5.1.0"
        ],
        [
         "21",
         "2f605bab-a62d-4298-bb1d-0b749bc666c4",
         "it is like a childish app make it better the worst I have ever seen",
         "1",
         "0",
         "2025-06-02 12:23:42",
         "Commercial Bank of Ethiopia",
         "5.1.0"
        ],
        [
         "22",
         "90395621-bcb9-4c87-9742-57faa8e345c1",
         "It's a problem solver application, go ahead CBE, I love so much.",
         "5",
         "0",
         "2025-06-02 10:40:18",
         "Commercial Bank of Ethiopia",
         "5.1.0"
        ],
        [
         "23",
         "a6a00b41-127d-4dda-b175-e65b9879dec7",
         "It's good but try to make it facilitate for your client",
         "4",
         "0",
         "2025-06-02 09:11:40",
         "Commercial Bank of Ethiopia",
         "5.1.0"
        ],
        [
         "24",
         "fae0ea4e-f650-415c-a91a-95b6b3149979",
         "best app",
         "5",
         "0",
         "2025-06-01 21:16:28",
         "Commercial Bank of Ethiopia",
         "5.1.0"
        ],
        [
         "25",
         "a3290b0c-4569-4ed7-87aa-3a18639b4525",
         "Awesome bank",
         "5",
         "0",
         "2025-06-01 20:31:42",
         "Commercial Bank of Ethiopia",
         "5.1.0"
        ],
        [
         "26",
         "50ffac9d-437d-4d26-af4f-b6b0153d55fd",
         "this app has developed in a very good ways but there are some comments I need to make 1- preventing the screenshot likely not good for someone like me coz I need to make screenshot for quicker evidence. 2-it would be good if you make us to access recent transaction histories for 30 days coz we don't have to go to the Bank's in person to see old transactions or add colander category so user can easily access old transactions through colanders.",
         "5",
         "42",
         "2025-05-31 21:21:18",
         "Commercial Bank of Ethiopia",
         "5.1.0"
        ],
        [
         "27",
         "0c9b996b-a42e-4500-84fa-1d5eb764f490",
         "Masha alla",
         "5",
         "0",
         "2025-05-31 14:37:05",
         "Commercial Bank of Ethiopia",
         "5.1.0"
        ],
        [
         "28",
         "8bf4df47-c266-4152-9790-4217143b3a91",
         "Recently there is big problem when sending to safaricom, telebir, and even to cbebirr wallet could anybody who is responsible fix it, it's very frustrating it's been 5 days and my money hasn't been returned it takes it out of my account but doesn't send it to my mpesa update- they have just corrected it and sent me back the money but still I'm afraid now to send again",
         "2",
         "1",
         "2025-05-31 11:30:33",
         "Commercial Bank of Ethiopia",
         "5.1.0"
        ],
        [
         "29",
         "62a13195-2c9d-4606-8f83-2866774e122c",
         "better service",
         "5",
         "0",
         "2025-05-31 07:28:05",
         "Commercial Bank of Ethiopia",
         "5.1.0"
        ],
        [
         "30",
         "66bc4eed-2004-41ea-89cd-5bed26921bc1",
         "it,s good app and time manager 👍",
         "5",
         "0",
         "2025-05-30 19:13:36",
         "Commercial Bank of Ethiopia",
         "5.1.0"
        ],
        [
         "31",
         "17190f44-a419-45dc-be9d-68b80c5360a2",
         "malkaamuu Jiidhaa Namoo",
         "5",
         "0",
         "2025-05-30 15:08:04",
         "Commercial Bank of Ethiopia",
         "5.1.0"
        ],
        [
         "32",
         "34cf56c4-74b9-4bec-b474-0d533f8aff49",
         "lower system everything",
         "3",
         "0",
         "2025-05-30 13:45:05",
         "Commercial Bank of Ethiopia",
         "5.1.0"
        ],
        [
         "33",
         "43135ccc-5195-43a0-b7a1-c446368d8046",
         "Nice!",
         "5",
         "0",
         "2025-05-30 11:55:13",
         "Commercial Bank of Ethiopia",
         "5.1.0"
        ],
        [
         "34",
         "b99da78e-335f-40cb-bae6-26b71fa7c68c",
         "Keep it up My CBE",
         "5",
         "0",
         "2025-05-29 09:38:37",
         "Commercial Bank of Ethiopia",
         "5.1.0"
        ],
        [
         "35",
         "aa3d99be-ecdc-4651-ad1e-347f0f8cd3e2",
         "yes good",
         "5",
         "0",
         "2025-05-28 15:56:18",
         "Commercial Bank of Ethiopia",
         "5.1.0"
        ],
        [
         "36",
         "ea23b98c-f4c7-4fdc-b64f-d8097e5efd1a",
         "I was using this app for the last two years with no problems. It stopped working about 3 months ago. when I tried to transfer funds it gives me error \"can't do this transaction. inactive account.\"",
         "4",
         "2",
         "2025-05-27 23:47:06",
         "Commercial Bank of Ethiopia",
         "5.1.0"
        ],
        [
         "37",
         "22c85c1d-46f6-4288-aab9-b615c040e6bb",
         "i like everything of this app",
         "5",
         "0",
         "2025-05-27 21:34:01",
         "Commercial Bank of Ethiopia",
         "5.1.0"
        ],
        [
         "38",
         "058173b0-3379-42c8-9ff7-cea64a66895c",
         "good",
         "5",
         "0",
         "2025-05-27 17:48:15",
         "Commercial Bank of Ethiopia",
         "5.1.0"
        ],
        [
         "39",
         "b3310092-87a7-4996-b673-366957705b66",
         "🤬🤬🤬🤬 network 🛜",
         "1",
         "0",
         "2025-05-26 17:59:50",
         "Commercial Bank of Ethiopia",
         "5.1.0"
        ],
        [
         "40",
         "a5a0372d-1dac-4a2d-a84e-f2c4d2bdbe2b",
         "Best",
         "5",
         "0",
         "2025-05-26 15:22:54",
         "Commercial Bank of Ethiopia",
         "5.1.0"
        ],
        [
         "41",
         "fe899c01-b28c-4e6a-b221-a14759e3a97e",
         "CBE is the best financial application and and very dimple to use. I would like to say thank you so much for the developer of application. I really appreciate this app.",
         "5",
         "0",
         "2025-05-26 13:43:02",
         "Commercial Bank of Ethiopia",
         "5.1.0"
        ],
        [
         "42",
         "03964dd0-bf0a-4d13-a6b0-c1437d02d94f",
         "nice",
         "5",
         "0",
         "2025-05-26 13:26:26",
         "Commercial Bank of Ethiopia",
         "5.1.0"
        ],
        [
         "43",
         "55381137-2212-4d86-9e3b-37b0910b9107",
         "good job",
         "5",
         "0",
         "2025-05-26 12:31:42",
         "Commercial Bank of Ethiopia",
         "5.1.0"
        ],
        [
         "44",
         "ab728a43-6a39-41aa-a872-3e2a6154dc5a",
         "Good",
         "5",
         "0",
         "2025-05-25 19:44:05",
         "Commercial Bank of Ethiopia",
         "5.1.0"
        ],
        [
         "45",
         "a9dd0b63-ccf5-4a8e-a0cf-5aae4cc0ef3b",
         "it's awesome!!",
         "5",
         "0",
         "2025-05-25 18:13:12",
         "Commercial Bank of Ethiopia",
         "5.1.0"
        ],
        [
         "46",
         "311eda41-1f0d-412f-a35c-09eae912fcdb",
         "best",
         "5",
         "0",
         "2025-05-25 17:34:23",
         "Commercial Bank of Ethiopia",
         "5.1.0"
        ],
        [
         "47",
         "fe6bf4b0-6bbd-4d88-b5b2-fa31f19ac63f",
         "thankyou every one",
         "5",
         "0",
         "2025-05-25 14:10:07",
         "Commercial Bank of Ethiopia",
         "5.1.0"
        ],
        [
         "48",
         "d5a14f98-2d64-4666-aab0-424dd1fc7e21",
         "best app",
         "5",
         "0",
         "2025-05-25 13:35:41",
         "Commercial Bank of Ethiopia",
         "5.1.0"
        ],
        [
         "49",
         "e24202d3-c8fd-46f3-9919-a6946c6ac403",
         "Ronaldo 🇵🇹 🥇",
         "5",
         "0",
         "2025-05-25 12:56:24",
         "Commercial Bank of Ethiopia",
         "5.1.0"
        ]
       ],
       "shape": {
        "columns": 7,
        "rows": 8992
       }
      },
      "text/html": [
       "<div>\n",
       "<style scoped>\n",
       "    .dataframe tbody tr th:only-of-type {\n",
       "        vertical-align: middle;\n",
       "    }\n",
       "\n",
       "    .dataframe tbody tr th {\n",
       "        vertical-align: top;\n",
       "    }\n",
       "\n",
       "    .dataframe thead th {\n",
       "        text-align: right;\n",
       "    }\n",
       "</style>\n",
       "<table border=\"1\" class=\"dataframe\">\n",
       "  <thead>\n",
       "    <tr style=\"text-align: right;\">\n",
       "      <th></th>\n",
       "      <th>reviewId</th>\n",
       "      <th>review</th>\n",
       "      <th>rating</th>\n",
       "      <th>thumbsUpCount</th>\n",
       "      <th>review_date</th>\n",
       "      <th>app_name</th>\n",
       "      <th>app_version</th>\n",
       "    </tr>\n",
       "  </thead>\n",
       "  <tbody>\n",
       "    <tr>\n",
       "      <th>0</th>\n",
       "      <td>dd9f9e37-177a-46df-b877-d0edaa9aed29</td>\n",
       "      <td>I cannot send to cbebirr app. through this app.</td>\n",
       "      <td>3</td>\n",
       "      <td>0</td>\n",
       "      <td>2025-06-05 11:12:49</td>\n",
       "      <td>Commercial Bank of Ethiopia</td>\n",
       "      <td>5.1.0</td>\n",
       "    </tr>\n",
       "    <tr>\n",
       "      <th>1</th>\n",
       "      <td>8e34703c-203c-4180-8b32-bfd0b3f0c871</td>\n",
       "      <td>good</td>\n",
       "      <td>4</td>\n",
       "      <td>0</td>\n",
       "      <td>2025-06-05 10:21:59</td>\n",
       "      <td>Commercial Bank of Ethiopia</td>\n",
       "      <td>5.1.0</td>\n",
       "    </tr>\n",
       "    <tr>\n",
       "      <th>2</th>\n",
       "      <td>6f0c7fa2-3ce1-4310-b135-54fe0cb9fccd</td>\n",
       "      <td>not functional</td>\n",
       "      <td>1</td>\n",
       "      <td>0</td>\n",
       "      <td>2025-06-05 07:38:12</td>\n",
       "      <td>Commercial Bank of Ethiopia</td>\n",
       "      <td>5.1.0</td>\n",
       "    </tr>\n",
       "    <tr>\n",
       "      <th>3</th>\n",
       "      <td>f0dd744a-9409-4619-9800-7ea501571b09</td>\n",
       "      <td>everytime you uninstall the app you have to re...</td>\n",
       "      <td>1</td>\n",
       "      <td>0</td>\n",
       "      <td>2025-06-04 21:33:36</td>\n",
       "      <td>Commercial Bank of Ethiopia</td>\n",
       "      <td>5.1.0</td>\n",
       "    </tr>\n",
       "    <tr>\n",
       "      <th>4</th>\n",
       "      <td>3949d8e0-7ac4-4b43-b4f4-a45d6a888a85</td>\n",
       "      <td>አካውንት የምናስገባበት ቦታ ስም ጽፈን ነው ከዚህ በፊት የላክንባቸውን አ...</td>\n",
       "      <td>4</td>\n",
       "      <td>0</td>\n",
       "      <td>2025-06-04 20:54:30</td>\n",
       "      <td>Commercial Bank of Ethiopia</td>\n",
       "      <td>5.1.0</td>\n",
       "    </tr>\n",
       "    <tr>\n",
       "      <th>...</th>\n",
       "      <td>...</td>\n",
       "      <td>...</td>\n",
       "      <td>...</td>\n",
       "      <td>...</td>\n",
       "      <td>...</td>\n",
       "      <td>...</td>\n",
       "      <td>...</td>\n",
       "    </tr>\n",
       "    <tr>\n",
       "      <th>1040</th>\n",
       "      <td>a7c5fb24-3dea-4f30-8a48-e5d537fa6f84</td>\n",
       "      <td>Perfect app</td>\n",
       "      <td>5</td>\n",
       "      <td>8</td>\n",
       "      <td>2024-01-12 11:10:38</td>\n",
       "      <td>BoA Mobile</td>\n",
       "      <td>25.05.03</td>\n",
       "    </tr>\n",
       "    <tr>\n",
       "      <th>1041</th>\n",
       "      <td>7bcc2bdb-87ee-4993-adc0-027963967a21</td>\n",
       "      <td>👍</td>\n",
       "      <td>3</td>\n",
       "      <td>3</td>\n",
       "      <td>2024-01-11 21:04:51</td>\n",
       "      <td>BoA Mobile</td>\n",
       "      <td>25.05.03</td>\n",
       "    </tr>\n",
       "    <tr>\n",
       "      <th>1042</th>\n",
       "      <td>c975592d-4176-48bd-a62e-a280b39ae58b</td>\n",
       "      <td>Absolutely it's fantastic apps this New apps i...</td>\n",
       "      <td>5</td>\n",
       "      <td>27</td>\n",
       "      <td>2024-01-11 20:49:53</td>\n",
       "      <td>BoA Mobile</td>\n",
       "      <td>25.05.03</td>\n",
       "    </tr>\n",
       "    <tr>\n",
       "      <th>1043</th>\n",
       "      <td>9cafe37d-532c-4b64-be35-3348307a5cc3</td>\n",
       "      <td>The best app next to Tele birr in ethiopia</td>\n",
       "      <td>5</td>\n",
       "      <td>48</td>\n",
       "      <td>2024-01-10 21:09:40</td>\n",
       "      <td>BoA Mobile</td>\n",
       "      <td>25.05.03</td>\n",
       "    </tr>\n",
       "    <tr>\n",
       "      <th>1044</th>\n",
       "      <td>e77e4316-0d37-42bd-9814-ec7742cc09c1</td>\n",
       "      <td>👍</td>\n",
       "      <td>5</td>\n",
       "      <td>14</td>\n",
       "      <td>2024-01-10 09:20:59</td>\n",
       "      <td>BoA Mobile</td>\n",
       "      <td>25.05.03</td>\n",
       "    </tr>\n",
       "  </tbody>\n",
       "</table>\n",
       "<p>8992 rows × 7 columns</p>\n",
       "</div>"
      ],
      "text/plain": [
       "                                  reviewId  \\\n",
       "0     dd9f9e37-177a-46df-b877-d0edaa9aed29   \n",
       "1     8e34703c-203c-4180-8b32-bfd0b3f0c871   \n",
       "2     6f0c7fa2-3ce1-4310-b135-54fe0cb9fccd   \n",
       "3     f0dd744a-9409-4619-9800-7ea501571b09   \n",
       "4     3949d8e0-7ac4-4b43-b4f4-a45d6a888a85   \n",
       "...                                    ...   \n",
       "1040  a7c5fb24-3dea-4f30-8a48-e5d537fa6f84   \n",
       "1041  7bcc2bdb-87ee-4993-adc0-027963967a21   \n",
       "1042  c975592d-4176-48bd-a62e-a280b39ae58b   \n",
       "1043  9cafe37d-532c-4b64-be35-3348307a5cc3   \n",
       "1044  e77e4316-0d37-42bd-9814-ec7742cc09c1   \n",
       "\n",
       "                                                 review  rating  \\\n",
       "0       I cannot send to cbebirr app. through this app.       3   \n",
       "1                                                  good       4   \n",
       "2                                        not functional       1   \n",
       "3     everytime you uninstall the app you have to re...       1   \n",
       "4     አካውንት የምናስገባበት ቦታ ስም ጽፈን ነው ከዚህ በፊት የላክንባቸውን አ...       4   \n",
       "...                                                 ...     ...   \n",
       "1040                                        Perfect app       5   \n",
       "1041                                                  👍       3   \n",
       "1042  Absolutely it's fantastic apps this New apps i...       5   \n",
       "1043         The best app next to Tele birr in ethiopia       5   \n",
       "1044                                                  👍       5   \n",
       "\n",
       "      thumbsUpCount          review_date                     app_name  \\\n",
       "0                 0  2025-06-05 11:12:49  Commercial Bank of Ethiopia   \n",
       "1                 0  2025-06-05 10:21:59  Commercial Bank of Ethiopia   \n",
       "2                 0  2025-06-05 07:38:12  Commercial Bank of Ethiopia   \n",
       "3                 0  2025-06-04 21:33:36  Commercial Bank of Ethiopia   \n",
       "4                 0  2025-06-04 20:54:30  Commercial Bank of Ethiopia   \n",
       "...             ...                  ...                          ...   \n",
       "1040              8  2024-01-12 11:10:38                   BoA Mobile   \n",
       "1041              3  2024-01-11 21:04:51                   BoA Mobile   \n",
       "1042             27  2024-01-11 20:49:53                   BoA Mobile   \n",
       "1043             48  2024-01-10 21:09:40                   BoA Mobile   \n",
       "1044             14  2024-01-10 09:20:59                   BoA Mobile   \n",
       "\n",
       "     app_version  \n",
       "0          5.1.0  \n",
       "1          5.1.0  \n",
       "2          5.1.0  \n",
       "3          5.1.0  \n",
       "4          5.1.0  \n",
       "...          ...  \n",
       "1040    25.05.03  \n",
       "1041    25.05.03  \n",
       "1042    25.05.03  \n",
       "1043    25.05.03  \n",
       "1044    25.05.03  \n",
       "\n",
       "[8992 rows x 7 columns]"
      ]
     },
     "execution_count": 15,
     "metadata": {},
     "output_type": "execute_result"
    }
   ],
   "source": [
    "# merging datasets into one \n",
    "merged_review_data = merge_datasets(cbe_review_data, dashen_review_data, abyssinia_review_data)\n",
    "merged_review_data"
   ]
  },
  {
   "cell_type": "markdown",
   "id": "1be618f7",
   "metadata": {},
   "source": [
    "Description: number of reviews per bank"
   ]
  },
  {
   "cell_type": "code",
   "execution_count": 7,
   "id": "60a04166",
   "metadata": {},
   "outputs": [
    {
     "data": {
      "application/vnd.microsoft.datawrangler.viewer.v0+json": {
       "columns": [
        {
         "name": "app_version",
         "rawType": "object",
         "type": "string"
        },
        {
         "name": "count",
         "rawType": "int64",
         "type": "integer"
        }
       ],
       "ref": "b4bb1963-d223-4603-bbdf-2e3805fbb5b3",
       "rows": [
        [
         "5.1.0",
         "7498"
        ],
        [
         "25.05.03",
         "1044"
        ],
        [
         "1.0.16",
         "448"
        ]
       ],
       "shape": {
        "columns": 1,
        "rows": 3
       }
      },
      "text/plain": [
       "app_version\n",
       "5.1.0       7498\n",
       "25.05.03    1044\n",
       "1.0.16       448\n",
       "Name: count, dtype: int64"
      ]
     },
     "execution_count": 7,
     "metadata": {},
     "output_type": "execute_result"
    }
   ],
   "source": [
    "# Displaying number of reviews per apps \n",
    "merged_review_data['app_version'].value_counts()"
   ]
  },
  {
   "cell_type": "code",
   "execution_count": 8,
   "id": "eb84663c",
   "metadata": {},
   "outputs": [
    {
     "name": "stderr",
     "output_type": "stream",
     "text": [
      "e:\\Courses\\10 Academy\\Week2\\fintech-customer-experience-analytics\\scripts\\visualization\\basic_plots.py:38: FutureWarning: \n",
      "\n",
      "Passing `palette` without assigning `hue` is deprecated and will be removed in v0.14.0. Assign the `x` variable to `hue` and set `legend=False` for the same effect.\n",
      "\n",
      "  sns.countplot(x=x_col, data=data, palette=palette, edgecolor='black')\n"
     ]
    },
    {
     "data": {
      "image/png": "[encoded data removed]",
      "text/plain": [
       "<Figure size 800x600 with 1 Axes>"
      ]
     },
     "metadata": {},
     "output_type": "display_data"
    }
   ],
   "source": [
    "# visualize number of reviews per bank\n",
    "basic_plots.count_plot(data=merged_review_data, x_col='app_name', title=\"Number of Review per Bank\", xlabel=\"Banks\")"
   ]
  },
  {
   "cell_type": "markdown",
   "id": "f4e1b805",
   "metadata": {},
   "source": [
    "- Checking and handling missing values of merged dataset "
   ]
  },
  {
   "cell_type": "code",
   "execution_count": 16,
   "id": "b917688e",
   "metadata": {},
   "outputs": [
    {
     "name": "stdout",
     "output_type": "stream",
     "text": [
      "\n",
      "Missing Values Report:\n",
      "--------------------------------------------------\n",
      "review    0.077847\n",
      "\n",
      "No columns exceed 5.0% missing values.\n",
      "Imputed missing values in 'review' (categorical) with mode: Good\n",
      "\n",
      "All missing values handled successfully.\n"
     ]
    }
   ],
   "source": [
    "# Handling missing values \n",
    "merged_review_data = handling_missing_data(merged_review_data)"
   ]
  },
  {
   "cell_type": "markdown",
   "id": "1878cc5b",
   "metadata": {},
   "source": [
    "- Handling duplicated values in dataset "
   ]
  },
  {
   "cell_type": "code",
   "execution_count": 17,
   "id": "11738ed5",
   "metadata": {},
   "outputs": [
    {
     "name": "stdout",
     "output_type": "stream",
     "text": [
      "Number of Duplicated values: 0\n",
      "Duplicates removed successfully.\n"
     ]
    }
   ],
   "source": [
    "# handling duplicate values \n",
    "merged_review_data = remove_duplicates(merged_review_data)"
   ]
  },
  {
   "cell_type": "markdown",
   "id": "00a45410",
   "metadata": {},
   "source": [
    "- Normalizing dates into `YYYY-MM-DD` format"
   ]
  },
  {
   "cell_type": "code",
   "execution_count": 18,
   "id": "4f26be8c",
   "metadata": {},
   "outputs": [
    {
     "name": "stdout",
     "output_type": "stream",
     "text": [
      "\n",
      "Dates in 'review_date' normalized to %Y-%m-%d format.\n"
     ]
    },
    {
     "name": "stderr",
     "output_type": "stream",
     "text": [
      "e:\\Courses\\10 Academy\\Week2\\fintech-customer-experience-analytics\\scripts\\data\\preprocess_review.py:183: UserWarning: The argument 'infer_datetime_format' is deprecated and will be removed in a future version. A strict version of it is now the default, see https://pandas.pydata.org/pdeps/0004-consistent-to-datetime-parsing.html. You can safely remove this argument.\n",
      "  data[date_column] = pd.to_datetime(\n"
     ]
    }
   ],
   "source": [
    "merged_review_data = normalize_dates(merged_review_data, 'review_date')"
   ]
  },
  {
   "cell_type": "markdown",
   "id": "ff848552",
   "metadata": {},
   "source": [
    " "
   ]
  },
  {
   "cell_type": "code",
   "execution_count": 19,
   "id": "11149114",
   "metadata": {},
   "outputs": [
    {
     "data": {
      "application/vnd.microsoft.datawrangler.viewer.v0+json": {
       "columns": [
        {
         "name": "index",
         "rawType": "int64",
         "type": "integer"
        },
        {
         "name": "reviewId",
         "rawType": "object",
         "type": "string"
        },
        {
         "name": "review",
         "rawType": "object",
         "type": "string"
        },
        {
         "name": "rating",
         "rawType": "int64",
         "type": "integer"
        },
        {
         "name": "thumbsUpCount",
         "rawType": "int64",
         "type": "integer"
        },
        {
         "name": "review_date",
         "rawType": "object",
         "type": "string"
        },
        {
         "name": "app_name",
         "rawType": "object",
         "type": "string"
        },
        {
         "name": "app_version",
         "rawType": "object",
         "type": "string"
        }
       ],
       "ref": "8166e250-77cd-4bcf-b807-47639392c275",
       "rows": [
        [
         "0",
         "dd9f9e37-177a-46df-b877-d0edaa9aed29",
         "I cannot send to cbebirr app. through this app.",
         "3",
         "0",
         "2025-06-05",
         "Commercial Bank of Ethiopia",
         "5.1.0"
        ],
        [
         "1",
         "8e34703c-203c-4180-8b32-bfd0b3f0c871",
         "good",
         "4",
         "0",
         "2025-06-05",
         "Commercial Bank of Ethiopia",
         "5.1.0"
        ],
        [
         "2",
         "6f0c7fa2-3ce1-4310-b135-54fe0cb9fccd",
         "not functional",
         "1",
         "0",
         "2025-06-05",
         "Commercial Bank of Ethiopia",
         "5.1.0"
        ],
        [
         "3",
         "f0dd744a-9409-4619-9800-7ea501571b09",
         "everytime you uninstall the app you have to reach them out physically. very oldy! if that's one of security layer, they'd check for fraud attempt via app source directly(source:- app store, play store ... etc) implicitly ! we are in 2025, physical presence for every app install is traditional(traditionally very rare).",
         "1",
         "0",
         "2025-06-04",
         "Commercial Bank of Ethiopia",
         "5.1.0"
        ],
        [
         "4",
         "3949d8e0-7ac4-4b43-b4f4-a45d6a888a85",
         "አካውንት የምናስገባበት ቦታ ስም ጽፈን ነው ከዚህ በፊት የላክንባቸውን አካዉንቶች የምንፈልገዉ ነገር ግን አዲስ አካውንቶች mr ብለዉ የሚጀምሩ በዝተዋል ግን አፕልኬሽኑ space ስንጽፍ አይቀበልም ቢስተካከል",
         "4",
         "0",
         "2025-06-04",
         "Commercial Bank of Ethiopia",
         "5.1.0"
        ],
        [
         "5",
         "36f83ed0-3935-4ebd-98e5-34cf25095d32",
         "best",
         "5",
         "0",
         "2025-06-04",
         "Commercial Bank of Ethiopia",
         "5.1.0"
        ],
        [
         "6",
         "f2bb4b73-090e-4834-8c89-2263a1158c38",
         "bezabih",
         "5",
         "0",
         "2025-06-04",
         "Commercial Bank of Ethiopia",
         "5.1.0"
        ],
        [
         "7",
         "54f070b9-895f-40e8-be18-acb16f8af7fa",
         "Best Mobile Banking app ever",
         "5",
         "0",
         "2025-06-04",
         "Commercial Bank of Ethiopia",
         "5.1.0"
        ],
        [
         "8",
         "aa72fd94-aca8-48b2-bae2-29ad7633c7fb",
         "good",
         "5",
         "0",
         "2025-06-04",
         "Commercial Bank of Ethiopia",
         "5.1.0"
        ],
        [
         "9",
         "9af95d2a-e42c-45ff-a4c9-5c38765df4a4",
         "it was good app but it have some issues like it doesnt give me the right amount that I have in the bank and have some issues in transferring",
         "2",
         "0",
         "2025-06-04",
         "Commercial Bank of Ethiopia",
         "5.1.0"
        ],
        [
         "10",
         "067d3e52-3586-4e02-b088-0411f25d34fb",
         "dedeb",
         "5",
         "0",
         "2025-06-04",
         "Commercial Bank of Ethiopia",
         "5.1.0"
        ],
        [
         "11",
         "88a64315-9de3-4a35-ac27-5ff37c2833b6",
         "good",
         "5",
         "0",
         "2025-06-04",
         "Commercial Bank of Ethiopia",
         "5.1.0"
        ],
        [
         "12",
         "c2cf0ff7-85ac-4e7c-902d-a8c5a8d69e22",
         "Good",
         "5",
         "0",
         "2025-06-04",
         "Commercial Bank of Ethiopia",
         "5.1.0"
        ],
        [
         "13",
         "acadb124-d34c-4387-97e8-266200c78d4e",
         "👌👍",
         "5",
         "0",
         "2025-06-04",
         "Commercial Bank of Ethiopia",
         "5.1.0"
        ],
        [
         "14",
         "42eed344-f5b7-49be-a7eb-b1c14386e20b",
         "very niec",
         "5",
         "0",
         "2025-06-04",
         "Commercial Bank of Ethiopia",
         "5.1.0"
        ],
        [
         "15",
         "fce00cda-d71a-486e-a4c2-7479ab7793bc",
         "best app of finance",
         "5",
         "0",
         "2025-06-04",
         "Commercial Bank of Ethiopia",
         "5.1.0"
        ],
        [
         "16",
         "f543a13e-bc0f-4348-b57f-3a83eb67206c",
         "yetemeta",
         "1",
         "0",
         "2025-06-03",
         "Commercial Bank of Ethiopia",
         "5.1.0"
        ],
        [
         "17",
         "2470d199-834a-4134-a0f9-8c684ba75491",
         "Engida Kebede Fetera",
         "5",
         "0",
         "2025-06-03",
         "Commercial Bank of Ethiopia",
         "5.1.0"
        ],
        [
         "18",
         "4beee0dd-05ad-474c-bdff-0146723f2179",
         "good",
         "5",
         "0",
         "2025-06-03",
         "Commercial Bank of Ethiopia",
         "5.1.0"
        ],
        [
         "19",
         "428e5117-387f-4c9d-b095-3230e3f83a8a",
         "it is not safety",
         "1",
         "0",
         "2025-06-03",
         "Commercial Bank of Ethiopia",
         "5.1.0"
        ],
        [
         "20",
         "f897e474-f560-4cf9-b66b-48c455443bfe",
         "NICE bank",
         "5",
         "0",
         "2025-06-03",
         "Commercial Bank of Ethiopia",
         "5.1.0"
        ],
        [
         "21",
         "2f605bab-a62d-4298-bb1d-0b749bc666c4",
         "it is like a childish app make it better the worst I have ever seen",
         "1",
         "0",
         "2025-06-02",
         "Commercial Bank of Ethiopia",
         "5.1.0"
        ],
        [
         "22",
         "90395621-bcb9-4c87-9742-57faa8e345c1",
         "It's a problem solver application, go ahead CBE, I love so much.",
         "5",
         "0",
         "2025-06-02",
         "Commercial Bank of Ethiopia",
         "5.1.0"
        ],
        [
         "23",
         "a6a00b41-127d-4dda-b175-e65b9879dec7",
         "It's good but try to make it facilitate for your client",
         "4",
         "0",
         "2025-06-02",
         "Commercial Bank of Ethiopia",
         "5.1.0"
        ],
        [
         "24",
         "fae0ea4e-f650-415c-a91a-95b6b3149979",
         "best app",
         "5",
         "0",
         "2025-06-01",
         "Commercial Bank of Ethiopia",
         "5.1.0"
        ],
        [
         "25",
         "a3290b0c-4569-4ed7-87aa-3a18639b4525",
         "Awesome bank",
         "5",
         "0",
         "2025-06-01",
         "Commercial Bank of Ethiopia",
         "5.1.0"
        ],
        [
         "26",
         "50ffac9d-437d-4d26-af4f-b6b0153d55fd",
         "this app has developed in a very good ways but there are some comments I need to make 1- preventing the screenshot likely not good for someone like me coz I need to make screenshot for quicker evidence. 2-it would be good if you make us to access recent transaction histories for 30 days coz we don't have to go to the Bank's in person to see old transactions or add colander category so user can easily access old transactions through colanders.",
         "5",
         "42",
         "2025-05-31",
         "Commercial Bank of Ethiopia",
         "5.1.0"
        ],
        [
         "27",
         "0c9b996b-a42e-4500-84fa-1d5eb764f490",
         "Masha alla",
         "5",
         "0",
         "2025-05-31",
         "Commercial Bank of Ethiopia",
         "5.1.0"
        ],
        [
         "28",
         "8bf4df47-c266-4152-9790-4217143b3a91",
         "Recently there is big problem when sending to safaricom, telebir, and even to cbebirr wallet could anybody who is responsible fix it, it's very frustrating it's been 5 days and my money hasn't been returned it takes it out of my account but doesn't send it to my mpesa update- they have just corrected it and sent me back the money but still I'm afraid now to send again",
         "2",
         "1",
         "2025-05-31",
         "Commercial Bank of Ethiopia",
         "5.1.0"
        ],
        [
         "29",
         "62a13195-2c9d-4606-8f83-2866774e122c",
         "better service",
         "5",
         "0",
         "2025-05-31",
         "Commercial Bank of Ethiopia",
         "5.1.0"
        ],
        [
         "30",
         "66bc4eed-2004-41ea-89cd-5bed26921bc1",
         "it,s good app and time manager 👍",
         "5",
         "0",
         "2025-05-30",
         "Commercial Bank of Ethiopia",
         "5.1.0"
        ],
        [
         "31",
         "17190f44-a419-45dc-be9d-68b80c5360a2",
         "malkaamuu Jiidhaa Namoo",
         "5",
         "0",
         "2025-05-30",
         "Commercial Bank of Ethiopia",
         "5.1.0"
        ],
        [
         "32",
         "34cf56c4-74b9-4bec-b474-0d533f8aff49",
         "lower system everything",
         "3",
         "0",
         "2025-05-30",
         "Commercial Bank of Ethiopia",
         "5.1.0"
        ],
        [
         "33",
         "43135ccc-5195-43a0-b7a1-c446368d8046",
         "Nice!",
         "5",
         "0",
         "2025-05-30",
         "Commercial Bank of Ethiopia",
         "5.1.0"
        ],
        [
         "34",
         "b99da78e-335f-40cb-bae6-26b71fa7c68c",
         "Keep it up My CBE",
         "5",
         "0",
         "2025-05-29",
         "Commercial Bank of Ethiopia",
         "5.1.0"
        ],
        [
         "35",
         "aa3d99be-ecdc-4651-ad1e-347f0f8cd3e2",
         "yes good",
         "5",
         "0",
         "2025-05-28",
         "Commercial Bank of Ethiopia",
         "5.1.0"
        ],
        [
         "36",
         "ea23b98c-f4c7-4fdc-b64f-d8097e5efd1a",
         "I was using this app for the last two years with no problems. It stopped working about 3 months ago. when I tried to transfer funds it gives me error \"can't do this transaction. inactive account.\"",
         "4",
         "2",
         "2025-05-27",
         "Commercial Bank of Ethiopia",
         "5.1.0"
        ],
        [
         "37",
         "22c85c1d-46f6-4288-aab9-b615c040e6bb",
         "i like everything of this app",
         "5",
         "0",
         "2025-05-27",
         "Commercial Bank of Ethiopia",
         "5.1.0"
        ],
        [
         "38",
         "058173b0-3379-42c8-9ff7-cea64a66895c",
         "good",
         "5",
         "0",
         "2025-05-27",
         "Commercial Bank of Ethiopia",
         "5.1.0"
        ],
        [
         "39",
         "b3310092-87a7-4996-b673-366957705b66",
         "🤬🤬🤬🤬 network 🛜",
         "1",
         "0",
         "2025-05-26",
         "Commercial Bank of Ethiopia",
         "5.1.0"
        ],
        [
         "40",
         "a5a0372d-1dac-4a2d-a84e-f2c4d2bdbe2b",
         "Best",
         "5",
         "0",
         "2025-05-26",
         "Commercial Bank of Ethiopia",
         "5.1.0"
        ],
        [
         "41",
         "fe899c01-b28c-4e6a-b221-a14759e3a97e",
         "CBE is the best financial application and and very dimple to use. I would like to say thank you so much for the developer of application. I really appreciate this app.",
         "5",
         "0",
         "2025-05-26",
         "Commercial Bank of Ethiopia",
         "5.1.0"
        ],
        [
         "42",
         "03964dd0-bf0a-4d13-a6b0-c1437d02d94f",
         "nice",
         "5",
         "0",
         "2025-05-26",
         "Commercial Bank of Ethiopia",
         "5.1.0"
        ],
        [
         "43",
         "55381137-2212-4d86-9e3b-37b0910b9107",
         "good job",
         "5",
         "0",
         "2025-05-26",
         "Commercial Bank of Ethiopia",
         "5.1.0"
        ],
        [
         "44",
         "ab728a43-6a39-41aa-a872-3e2a6154dc5a",
         "Good",
         "5",
         "0",
         "2025-05-25",
         "Commercial Bank of Ethiopia",
         "5.1.0"
        ],
        [
         "45",
         "a9dd0b63-ccf5-4a8e-a0cf-5aae4cc0ef3b",
         "it's awesome!!",
         "5",
         "0",
         "2025-05-25",
         "Commercial Bank of Ethiopia",
         "5.1.0"
        ],
        [
         "46",
         "311eda41-1f0d-412f-a35c-09eae912fcdb",
         "best",
         "5",
         "0",
         "2025-05-25",
         "Commercial Bank of Ethiopia",
         "5.1.0"
        ],
        [
         "47",
         "fe6bf4b0-6bbd-4d88-b5b2-fa31f19ac63f",
         "thankyou every one",
         "5",
         "0",
         "2025-05-25",
         "Commercial Bank of Ethiopia",
         "5.1.0"
        ],
        [
         "48",
         "d5a14f98-2d64-4666-aab0-424dd1fc7e21",
         "best app",
         "5",
         "0",
         "2025-05-25",
         "Commercial Bank of Ethiopia",
         "5.1.0"
        ],
        [
         "49",
         "e24202d3-c8fd-46f3-9919-a6946c6ac403",
         "Ronaldo 🇵🇹 🥇",
         "5",
         "0",
         "2025-05-25",
         "Commercial Bank of Ethiopia",
         "5.1.0"
        ]
       ],
       "shape": {
        "columns": 7,
        "rows": 8992
       }
      },
      "text/html": [
       "<div>\n",
       "<style scoped>\n",
       "    .dataframe tbody tr th:only-of-type {\n",
       "        vertical-align: middle;\n",
       "    }\n",
       "\n",
       "    .dataframe tbody tr th {\n",
       "        vertical-align: top;\n",
       "    }\n",
       "\n",
       "    .dataframe thead th {\n",
       "        text-align: right;\n",
       "    }\n",
       "</style>\n",
       "<table border=\"1\" class=\"dataframe\">\n",
       "  <thead>\n",
       "    <tr style=\"text-align: right;\">\n",
       "      <th></th>\n",
       "      <th>reviewId</th>\n",
       "      <th>review</th>\n",
       "      <th>rating</th>\n",
       "      <th>thumbsUpCount</th>\n",
       "      <th>review_date</th>\n",
       "      <th>app_name</th>\n",
       "      <th>app_version</th>\n",
       "    </tr>\n",
       "  </thead>\n",
       "  <tbody>\n",
       "    <tr>\n",
       "      <th>0</th>\n",
       "      <td>dd9f9e37-177a-46df-b877-d0edaa9aed29</td>\n",
       "      <td>I cannot send to cbebirr app. through this app.</td>\n",
       "      <td>3</td>\n",
       "      <td>0</td>\n",
       "      <td>2025-06-05</td>\n",
       "      <td>Commercial Bank of Ethiopia</td>\n",
       "      <td>5.1.0</td>\n",
       "    </tr>\n",
       "    <tr>\n",
       "      <th>1</th>\n",
       "      <td>8e34703c-203c-4180-8b32-bfd0b3f0c871</td>\n",
       "      <td>good</td>\n",
       "      <td>4</td>\n",
       "      <td>0</td>\n",
       "      <td>2025-06-05</td>\n",
       "      <td>Commercial Bank of Ethiopia</td>\n",
       "      <td>5.1.0</td>\n",
       "    </tr>\n",
       "    <tr>\n",
       "      <th>2</th>\n",
       "      <td>6f0c7fa2-3ce1-4310-b135-54fe0cb9fccd</td>\n",
       "      <td>not functional</td>\n",
       "      <td>1</td>\n",
       "      <td>0</td>\n",
       "      <td>2025-06-05</td>\n",
       "      <td>Commercial Bank of Ethiopia</td>\n",
       "      <td>5.1.0</td>\n",
       "    </tr>\n",
       "    <tr>\n",
       "      <th>3</th>\n",
       "      <td>f0dd744a-9409-4619-9800-7ea501571b09</td>\n",
       "      <td>everytime you uninstall the app you have to re...</td>\n",
       "      <td>1</td>\n",
       "      <td>0</td>\n",
       "      <td>2025-06-04</td>\n",
       "      <td>Commercial Bank of Ethiopia</td>\n",
       "      <td>5.1.0</td>\n",
       "    </tr>\n",
       "    <tr>\n",
       "      <th>4</th>\n",
       "      <td>3949d8e0-7ac4-4b43-b4f4-a45d6a888a85</td>\n",
       "      <td>አካውንት የምናስገባበት ቦታ ስም ጽፈን ነው ከዚህ በፊት የላክንባቸውን አ...</td>\n",
       "      <td>4</td>\n",
       "      <td>0</td>\n",
       "      <td>2025-06-04</td>\n",
       "      <td>Commercial Bank of Ethiopia</td>\n",
       "      <td>5.1.0</td>\n",
       "    </tr>\n",
       "    <tr>\n",
       "      <th>...</th>\n",
       "      <td>...</td>\n",
       "      <td>...</td>\n",
       "      <td>...</td>\n",
       "      <td>...</td>\n",
       "      <td>...</td>\n",
       "      <td>...</td>\n",
       "      <td>...</td>\n",
       "    </tr>\n",
       "    <tr>\n",
       "      <th>1040</th>\n",
       "      <td>a7c5fb24-3dea-4f30-8a48-e5d537fa6f84</td>\n",
       "      <td>Perfect app</td>\n",
       "      <td>5</td>\n",
       "      <td>8</td>\n",
       "      <td>2024-01-12</td>\n",
       "      <td>BoA Mobile</td>\n",
       "      <td>25.05.03</td>\n",
       "    </tr>\n",
       "    <tr>\n",
       "      <th>1041</th>\n",
       "      <td>7bcc2bdb-87ee-4993-adc0-027963967a21</td>\n",
       "      <td>👍</td>\n",
       "      <td>3</td>\n",
       "      <td>3</td>\n",
       "      <td>2024-01-11</td>\n",
       "      <td>BoA Mobile</td>\n",
       "      <td>25.05.03</td>\n",
       "    </tr>\n",
       "    <tr>\n",
       "      <th>1042</th>\n",
       "      <td>c975592d-4176-48bd-a62e-a280b39ae58b</td>\n",
       "      <td>Absolutely it's fantastic apps this New apps i...</td>\n",
       "      <td>5</td>\n",
       "      <td>27</td>\n",
       "      <td>2024-01-11</td>\n",
       "      <td>BoA Mobile</td>\n",
       "      <td>25.05.03</td>\n",
       "    </tr>\n",
       "    <tr>\n",
       "      <th>1043</th>\n",
       "      <td>9cafe37d-532c-4b64-be35-3348307a5cc3</td>\n",
       "      <td>The best app next to Tele birr in ethiopia</td>\n",
       "      <td>5</td>\n",
       "      <td>48</td>\n",
       "      <td>2024-01-10</td>\n",
       "      <td>BoA Mobile</td>\n",
       "      <td>25.05.03</td>\n",
       "    </tr>\n",
       "    <tr>\n",
       "      <th>1044</th>\n",
       "      <td>e77e4316-0d37-42bd-9814-ec7742cc09c1</td>\n",
       "      <td>👍</td>\n",
       "      <td>5</td>\n",
       "      <td>14</td>\n",
       "      <td>2024-01-10</td>\n",
       "      <td>BoA Mobile</td>\n",
       "      <td>25.05.03</td>\n",
       "    </tr>\n",
       "  </tbody>\n",
       "</table>\n",
       "<p>8992 rows × 7 columns</p>\n",
       "</div>"
      ],
      "text/plain": [
       "                                  reviewId  \\\n",
       "0     dd9f9e37-177a-46df-b877-d0edaa9aed29   \n",
       "1     8e34703c-203c-4180-8b32-bfd0b3f0c871   \n",
       "2     6f0c7fa2-3ce1-4310-b135-54fe0cb9fccd   \n",
       "3     f0dd744a-9409-4619-9800-7ea501571b09   \n",
       "4     3949d8e0-7ac4-4b43-b4f4-a45d6a888a85   \n",
       "...                                    ...   \n",
       "1040  a7c5fb24-3dea-4f30-8a48-e5d537fa6f84   \n",
       "1041  7bcc2bdb-87ee-4993-adc0-027963967a21   \n",
       "1042  c975592d-4176-48bd-a62e-a280b39ae58b   \n",
       "1043  9cafe37d-532c-4b64-be35-3348307a5cc3   \n",
       "1044  e77e4316-0d37-42bd-9814-ec7742cc09c1   \n",
       "\n",
       "                                                 review  rating  \\\n",
       "0       I cannot send to cbebirr app. through this app.       3   \n",
       "1                                                  good       4   \n",
       "2                                        not functional       1   \n",
       "3     everytime you uninstall the app you have to re...       1   \n",
       "4     አካውንት የምናስገባበት ቦታ ስም ጽፈን ነው ከዚህ በፊት የላክንባቸውን አ...       4   \n",
       "...                                                 ...     ...   \n",
       "1040                                        Perfect app       5   \n",
       "1041                                                  👍       3   \n",
       "1042  Absolutely it's fantastic apps this New apps i...       5   \n",
       "1043         The best app next to Tele birr in ethiopia       5   \n",
       "1044                                                  👍       5   \n",
       "\n",
       "      thumbsUpCount review_date                     app_name app_version  \n",
       "0                 0  2025-06-05  Commercial Bank of Ethiopia       5.1.0  \n",
       "1                 0  2025-06-05  Commercial Bank of Ethiopia       5.1.0  \n",
       "2                 0  2025-06-05  Commercial Bank of Ethiopia       5.1.0  \n",
       "3                 0  2025-06-04  Commercial Bank of Ethiopia       5.1.0  \n",
       "4                 0  2025-06-04  Commercial Bank of Ethiopia       5.1.0  \n",
       "...             ...         ...                          ...         ...  \n",
       "1040              8  2024-01-12                   BoA Mobile    25.05.03  \n",
       "1041              3  2024-01-11                   BoA Mobile    25.05.03  \n",
       "1042             27  2024-01-11                   BoA Mobile    25.05.03  \n",
       "1043             48  2024-01-10                   BoA Mobile    25.05.03  \n",
       "1044             14  2024-01-10                   BoA Mobile    25.05.03  \n",
       "\n",
       "[8992 rows x 7 columns]"
      ]
     },
     "execution_count": 19,
     "metadata": {},
     "output_type": "execute_result"
    }
   ],
   "source": [
    "merged_review_data"
   ]
  },
  {
   "cell_type": "code",
   "execution_count": null,
   "id": "790beef3",
   "metadata": {},
   "outputs": [],
   "source": []
  }
 ],
 "metadata": {
  "kernelspec": {
   "display_name": "Python 3",
   "language": "python",
   "name": "python3"
  },
  "language_info": {
   "codemirror_mode": {
    "name": "ipython",
    "version": 3
   },
   "file_extension": ".py",
   "mimetype": "text/x-python",
   "name": "python",
   "nbconvert_exporter": "python",
   "pygments_lexer": "ipython3",
   "version": "3.13.1"
  }
 },
 "nbformat": 4,
 "nbformat_minor": 5
}
