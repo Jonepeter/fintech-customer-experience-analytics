{
 "cells": [
  {
   "cell_type": "markdown",
   "id": "af6dc937",
   "metadata": {},
   "source": [
    "## **Task 1: Data Collection and Preprocessing**\n",
    "- **`Objective:`**\n",
    "  - Scrape and preprocess Google Play Store reviews for three banks (1,200+ total reviews) to create a clean dataset for sentiment analysis.\n",
    "  - "
   ]
  },
  {
   "cell_type": "code",
   "execution_count": 15,
   "id": "983ec0a8",
   "metadata": {},
   "outputs": [],
   "source": [
    "# Import required files \n",
    "import os \n",
    "import sys\n",
    "\n",
    "system_path = os.path.abspath('..')\n",
    "if system_path not in sys.path:\n",
    "    sys.path.append(system_path)\n",
    "\n",
    "%load_ext autoreload\n",
    "%autoreload 2\n",
    "\n",
    "from scripts.data.scraping import scrape_play_store_reviews"
   ]
  },
  {
   "cell_type": "code",
   "execution_count": 17,
   "id": "6d400159",
   "metadata": {},
   "outputs": [
    {
     "name": "stdout",
     "output_type": "stream",
     "text": [
      "Number of CBE Review: 7492\n",
      "Number of Abyssinia Review: 1044\n",
      "Number of Dashen Review: 449\n"
     ]
    }
   ],
   "source": [
    "# CBE application review scrapping \n",
    "cbe_review = scrape_play_store_reviews(\"com.combanketh.mobilebanking\")\n",
    "print(f\"Number of CBE Review: {cbe_review.shape[0]}\")\n",
    "cbe_review.to_csv(\"../data/raw/cbe_review.csv\", index=False)\n",
    "\n",
    "# Abyssinia Bank review scrapping \n",
    "abyssinia_review = scrape_play_store_reviews(\"com.boa.boaMobileBanking\")\n",
    "print(f\"Number of Abyssinia Review: {abyssinia_review.shape[0]}\")\n",
    "abyssinia_review.to_csv(\"../data/raw/abyssinia_bank_review.csv\", index=False)\n",
    "\n",
    "# Dashen Bank review scrapping \n",
    "dashen_review = scrape_play_store_reviews(\"com.dashen.dashensuperapp\")\n",
    "print(f\"Number of Dashen Review: {dashen_review.shape[0]}\")\n",
    "dashen_review.to_csv(\"../data/raw/dashen_bank_review.csv\", index=False)"
   ]
  },
  {
   "cell_type": "code",
   "execution_count": 18,
   "id": "e0a645d1",
   "metadata": {},
   "outputs": [
    {
     "data": {
      "application/vnd.microsoft.datawrangler.viewer.v0+json": {
       "columns": [
        {
         "name": "index",
         "rawType": "int64",
         "type": "integer"
        },
        {
         "name": "reviewId",
         "rawType": "object",
         "type": "string"
        },
        {
         "name": "content",
         "rawType": "object",
         "type": "unknown"
        },
        {
         "name": "score",
         "rawType": "int64",
         "type": "integer"
        },
        {
         "name": "thumbsUpCount",
         "rawType": "int64",
         "type": "integer"
        },
        {
         "name": "review_date",
         "rawType": "datetime64[ns]",
         "type": "datetime"
        },
        {
         "name": "app_name",
         "rawType": "object",
         "type": "string"
        },
        {
         "name": "app_version",
         "rawType": "object",
         "type": "string"
        }
       ],
       "ref": "c180895d-98ea-4198-92b2-f184920cecd5",
       "rows": [
        [
         "0",
         "54f070b9-895f-40e8-be18-acb16f8af7fa",
         "Best Mobile Banking app ever",
         "5",
         "0",
         "2025-06-04 16:50:52",
         "Commercial Bank of Ethiopia",
         "5.1.0"
        ],
        [
         "1",
         "aa72fd94-aca8-48b2-bae2-29ad7633c7fb",
         "good",
         "5",
         "0",
         "2025-06-04 16:00:15",
         "Commercial Bank of Ethiopia",
         "5.1.0"
        ],
        [
         "2",
         "9af95d2a-e42c-45ff-a4c9-5c38765df4a4",
         "it was good app but it have some issues like it doesnt give me the right amount that I have in the bank and have some issues in transferring",
         "2",
         "0",
         "2025-06-04 15:56:02",
         "Commercial Bank of Ethiopia",
         "5.1.0"
        ],
        [
         "3",
         "067d3e52-3586-4e02-b088-0411f25d34fb",
         "dedeb",
         "5",
         "0",
         "2025-06-04 15:04:02",
         "Commercial Bank of Ethiopia",
         "5.1.0"
        ],
        [
         "4",
         "88a64315-9de3-4a35-ac27-5ff37c2833b6",
         "good",
         "5",
         "0",
         "2025-06-04 14:59:40",
         "Commercial Bank of Ethiopia",
         "5.1.0"
        ],
        [
         "5",
         "c2cf0ff7-85ac-4e7c-902d-a8c5a8d69e22",
         "Good",
         "5",
         "0",
         "2025-06-04 14:52:50",
         "Commercial Bank of Ethiopia",
         "5.1.0"
        ],
        [
         "6",
         "acadb124-d34c-4387-97e8-266200c78d4e",
         "👌👍",
         "5",
         "0",
         "2025-06-04 12:43:21",
         "Commercial Bank of Ethiopia",
         "5.1.0"
        ],
        [
         "7",
         "42eed344-f5b7-49be-a7eb-b1c14386e20b",
         "very niec",
         "5",
         "0",
         "2025-06-04 11:21:53",
         "Commercial Bank of Ethiopia",
         "5.1.0"
        ],
        [
         "8",
         "fce00cda-d71a-486e-a4c2-7479ab7793bc",
         "best app of finance",
         "5",
         "0",
         "2025-06-04 07:38:54",
         "Commercial Bank of Ethiopia",
         "5.1.0"
        ],
        [
         "9",
         "f543a13e-bc0f-4348-b57f-3a83eb67206c",
         "yetemeta",
         "1",
         "0",
         "2025-06-03 21:04:44",
         "Commercial Bank of Ethiopia",
         "5.1.0"
        ],
        [
         "10",
         "2470d199-834a-4134-a0f9-8c684ba75491",
         "Engida Kebede Fetera",
         "5",
         "0",
         "2025-06-03 20:20:23",
         "Commercial Bank of Ethiopia",
         "5.1.0"
        ],
        [
         "11",
         "4beee0dd-05ad-474c-bdff-0146723f2179",
         "good",
         "5",
         "0",
         "2025-06-03 11:32:52",
         "Commercial Bank of Ethiopia",
         "5.1.0"
        ],
        [
         "12",
         "428e5117-387f-4c9d-b095-3230e3f83a8a",
         "it is not safety",
         "1",
         "0",
         "2025-06-03 09:14:31",
         "Commercial Bank of Ethiopia",
         "5.1.0"
        ],
        [
         "13",
         "f897e474-f560-4cf9-b66b-48c455443bfe",
         "NICE bank",
         "5",
         "0",
         "2025-06-03 08:42:36",
         "Commercial Bank of Ethiopia",
         "5.1.0"
        ],
        [
         "14",
         "2f605bab-a62d-4298-bb1d-0b749bc666c4",
         "it is like a childish app make it better the worst I have ever seen",
         "1",
         "0",
         "2025-06-02 12:23:42",
         "Commercial Bank of Ethiopia",
         "5.1.0"
        ],
        [
         "15",
         "90395621-bcb9-4c87-9742-57faa8e345c1",
         "It's a problem solver application, go ahead CBE, I love so much.",
         "5",
         "0",
         "2025-06-02 10:40:18",
         "Commercial Bank of Ethiopia",
         "5.1.0"
        ],
        [
         "16",
         "a6a00b41-127d-4dda-b175-e65b9879dec7",
         "It's good but try to make it facilitate for your client",
         "4",
         "0",
         "2025-06-02 09:11:40",
         "Commercial Bank of Ethiopia",
         "5.1.0"
        ],
        [
         "17",
         "fae0ea4e-f650-415c-a91a-95b6b3149979",
         "best app",
         "5",
         "0",
         "2025-06-01 21:16:28",
         "Commercial Bank of Ethiopia",
         "5.1.0"
        ],
        [
         "18",
         "a3290b0c-4569-4ed7-87aa-3a18639b4525",
         "Awesome bank",
         "5",
         "0",
         "2025-06-01 20:31:42",
         "Commercial Bank of Ethiopia",
         "5.1.0"
        ],
        [
         "19",
         "50ffac9d-437d-4d26-af4f-b6b0153d55fd",
         "this app has developed in a very good ways but there are some comments I need to make 1- preventing the screenshot likely not good for someone like me coz I need to make screenshot for quicker evidence. 2-it would be good if you make us to access recent transaction histories for 30 days coz we don't have to go to the Bank's in person to see old transactions or add colander category so user can easily access old transactions through colanders.",
         "5",
         "35",
         "2025-05-31 21:21:18",
         "Commercial Bank of Ethiopia",
         "5.1.0"
        ],
        [
         "20",
         "0c9b996b-a42e-4500-84fa-1d5eb764f490",
         "Masha alla",
         "5",
         "0",
         "2025-05-31 14:37:05",
         "Commercial Bank of Ethiopia",
         "5.1.0"
        ],
        [
         "21",
         "8bf4df47-c266-4152-9790-4217143b3a91",
         "Recently there is big problem when sending to safaricom, telebir, and even to cbebirr wallet could anybody who is responsible fix it, it's very frustrating it's been 5 days and my money hasn't been returned it takes it out of my account but doesn't send it to my mpesa update- they have just corrected it and sent me back the money but still I'm afraid now to send again",
         "2",
         "1",
         "2025-05-31 11:30:33",
         "Commercial Bank of Ethiopia",
         "5.1.0"
        ],
        [
         "22",
         "62a13195-2c9d-4606-8f83-2866774e122c",
         "better service",
         "5",
         "0",
         "2025-05-31 07:28:05",
         "Commercial Bank of Ethiopia",
         "5.1.0"
        ],
        [
         "23",
         "66bc4eed-2004-41ea-89cd-5bed26921bc1",
         "it,s good app and time manager 👍",
         "5",
         "0",
         "2025-05-30 19:13:36",
         "Commercial Bank of Ethiopia",
         "5.1.0"
        ],
        [
         "24",
         "17190f44-a419-45dc-be9d-68b80c5360a2",
         "malkaamuu Jiidhaa Namoo",
         "5",
         "0",
         "2025-05-30 15:08:04",
         "Commercial Bank of Ethiopia",
         "5.1.0"
        ],
        [
         "25",
         "34cf56c4-74b9-4bec-b474-0d533f8aff49",
         "lower system everything",
         "3",
         "0",
         "2025-05-30 13:45:05",
         "Commercial Bank of Ethiopia",
         "5.1.0"
        ],
        [
         "26",
         "43135ccc-5195-43a0-b7a1-c446368d8046",
         "Nice!",
         "5",
         "0",
         "2025-05-30 11:55:13",
         "Commercial Bank of Ethiopia",
         "5.1.0"
        ],
        [
         "27",
         "b99da78e-335f-40cb-bae6-26b71fa7c68c",
         "Keep it up My CBE",
         "5",
         "0",
         "2025-05-29 09:38:37",
         "Commercial Bank of Ethiopia",
         "5.1.0"
        ],
        [
         "28",
         "aa3d99be-ecdc-4651-ad1e-347f0f8cd3e2",
         "yes good",
         "5",
         "0",
         "2025-05-28 15:56:18",
         "Commercial Bank of Ethiopia",
         "5.1.0"
        ],
        [
         "29",
         "ea23b98c-f4c7-4fdc-b64f-d8097e5efd1a",
         "I was using this app for the last two years with no problems. It stopped working about 3 months ago. when I tried to transfer funds it gives me error \"can't do this transaction. inactive account.\"",
         "4",
         "2",
         "2025-05-27 23:47:06",
         "Commercial Bank of Ethiopia",
         "5.1.0"
        ],
        [
         "30",
         "22c85c1d-46f6-4288-aab9-b615c040e6bb",
         "i like everything of this app",
         "5",
         "0",
         "2025-05-27 21:34:01",
         "Commercial Bank of Ethiopia",
         "5.1.0"
        ],
        [
         "31",
         "058173b0-3379-42c8-9ff7-cea64a66895c",
         "good",
         "5",
         "0",
         "2025-05-27 17:48:15",
         "Commercial Bank of Ethiopia",
         "5.1.0"
        ],
        [
         "32",
         "b3310092-87a7-4996-b673-366957705b66",
         "🤬🤬🤬🤬 network 🛜",
         "1",
         "0",
         "2025-05-26 17:59:50",
         "Commercial Bank of Ethiopia",
         "5.1.0"
        ],
        [
         "33",
         "a5a0372d-1dac-4a2d-a84e-f2c4d2bdbe2b",
         "Best",
         "5",
         "0",
         "2025-05-26 15:22:54",
         "Commercial Bank of Ethiopia",
         "5.1.0"
        ],
        [
         "34",
         "fe899c01-b28c-4e6a-b221-a14759e3a97e",
         "CBE is the best financial application and and very dimple to use. I would like to say thank you so much for the developer of application. I really appreciate this app.",
         "5",
         "0",
         "2025-05-26 13:43:02",
         "Commercial Bank of Ethiopia",
         "5.1.0"
        ],
        [
         "35",
         "03964dd0-bf0a-4d13-a6b0-c1437d02d94f",
         "nice",
         "5",
         "0",
         "2025-05-26 13:26:26",
         "Commercial Bank of Ethiopia",
         "5.1.0"
        ],
        [
         "36",
         "55381137-2212-4d86-9e3b-37b0910b9107",
         "good job",
         "5",
         "0",
         "2025-05-26 12:31:42",
         "Commercial Bank of Ethiopia",
         "5.1.0"
        ],
        [
         "37",
         "ab728a43-6a39-41aa-a872-3e2a6154dc5a",
         "Good",
         "5",
         "0",
         "2025-05-25 19:44:05",
         "Commercial Bank of Ethiopia",
         "5.1.0"
        ],
        [
         "38",
         "a9dd0b63-ccf5-4a8e-a0cf-5aae4cc0ef3b",
         "it's awesome!!",
         "5",
         "0",
         "2025-05-25 18:13:12",
         "Commercial Bank of Ethiopia",
         "5.1.0"
        ],
        [
         "39",
         "311eda41-1f0d-412f-a35c-09eae912fcdb",
         "best",
         "5",
         "0",
         "2025-05-25 17:34:23",
         "Commercial Bank of Ethiopia",
         "5.1.0"
        ],
        [
         "40",
         "fe6bf4b0-6bbd-4d88-b5b2-fa31f19ac63f",
         "thankyou every one",
         "5",
         "0",
         "2025-05-25 14:10:07",
         "Commercial Bank of Ethiopia",
         "5.1.0"
        ],
        [
         "41",
         "d5a14f98-2d64-4666-aab0-424dd1fc7e21",
         "best app",
         "5",
         "0",
         "2025-05-25 13:35:41",
         "Commercial Bank of Ethiopia",
         "5.1.0"
        ],
        [
         "42",
         "e24202d3-c8fd-46f3-9919-a6946c6ac403",
         "Ronaldo 🇵🇹 🥇",
         "5",
         "0",
         "2025-05-25 12:56:24",
         "Commercial Bank of Ethiopia",
         "5.1.0"
        ],
        [
         "43",
         "52aa3e01-9c6a-499d-aa48-b85b82d34781",
         "this app is absolutely fantastic I love it and I enjoying to it ,let us support this foundation together .",
         "5",
         "0",
         "2025-05-25 11:51:45",
         "Commercial Bank of Ethiopia",
         "5.1.0"
        ],
        [
         "44",
         "9e6b8e08-8acf-4e1f-a179-a5a703ff2ebc",
         "The CBE app has been highly unreliable in recent weeks. It frequently fails to work properly on both Ethio Telecom and Safaricom networks, whether using Wi-Fi or mobile data. This week, the system was down entirely for extended periods, making it very difficult to access banking services. The app only functions intermittently, and the lack of consistency is frustrating. I hope the issues are addressed soon, and that any non-technical influences are removed from such essential services.",
         "2",
         "11",
         "2025-05-25 10:54:25",
         "Commercial Bank of Ethiopia",
         "5.1.0"
        ],
        [
         "45",
         "d4c4a244-7c41-4d44-9541-a9fefc6190c3",
         "mortuary app",
         "5",
         "0",
         "2025-05-25 09:23:34",
         "Commercial Bank of Ethiopia",
         "5.1.0"
        ],
        [
         "46",
         "8bc7721c-3d11-4a15-a787-fdb0c266a9f4",
         "it is smart app but it has stoped after some period of time on my device with out any reason .",
         "5",
         "1",
         "2025-05-25 07:30:44",
         "Commercial Bank of Ethiopia",
         "5.1.0"
        ],
        [
         "47",
         "d3266f1c-8cb9-4766-a90e-47c2532a2b42",
         "amazing app I am used this app for one year",
         "4",
         "0",
         "2025-05-24 23:26:43",
         "Commercial Bank of Ethiopia",
         "5.1.0"
        ],
        [
         "48",
         "1426b3c3-e096-4535-9ec8-f9972af0ac54",
         "👍",
         "5",
         "0",
         "2025-05-24 18:36:13",
         "Commercial Bank of Ethiopia",
         "5.1.0"
        ],
        [
         "49",
         "505a4969-b975-4810-a641-b501ba9dc078",
         "good app",
         "5",
         "0",
         "2025-05-24 17:06:49",
         "Commercial Bank of Ethiopia",
         "5.1.0"
        ]
       ],
       "shape": {
        "columns": 7,
        "rows": 7492
       }
      },
      "text/html": [
       "<div>\n",
       "<style scoped>\n",
       "    .dataframe tbody tr th:only-of-type {\n",
       "        vertical-align: middle;\n",
       "    }\n",
       "\n",
       "    .dataframe tbody tr th {\n",
       "        vertical-align: top;\n",
       "    }\n",
       "\n",
       "    .dataframe thead th {\n",
       "        text-align: right;\n",
       "    }\n",
       "</style>\n",
       "<table border=\"1\" class=\"dataframe\">\n",
       "  <thead>\n",
       "    <tr style=\"text-align: right;\">\n",
       "      <th></th>\n",
       "      <th>reviewId</th>\n",
       "      <th>content</th>\n",
       "      <th>score</th>\n",
       "      <th>thumbsUpCount</th>\n",
       "      <th>review_date</th>\n",
       "      <th>app_name</th>\n",
       "      <th>app_version</th>\n",
       "    </tr>\n",
       "  </thead>\n",
       "  <tbody>\n",
       "    <tr>\n",
       "      <th>0</th>\n",
       "      <td>54f070b9-895f-40e8-be18-acb16f8af7fa</td>\n",
       "      <td>Best Mobile Banking app ever</td>\n",
       "      <td>5</td>\n",
       "      <td>0</td>\n",
       "      <td>2025-06-04 16:50:52</td>\n",
       "      <td>Commercial Bank of Ethiopia</td>\n",
       "      <td>5.1.0</td>\n",
       "    </tr>\n",
       "    <tr>\n",
       "      <th>1</th>\n",
       "      <td>aa72fd94-aca8-48b2-bae2-29ad7633c7fb</td>\n",
       "      <td>good</td>\n",
       "      <td>5</td>\n",
       "      <td>0</td>\n",
       "      <td>2025-06-04 16:00:15</td>\n",
       "      <td>Commercial Bank of Ethiopia</td>\n",
       "      <td>5.1.0</td>\n",
       "    </tr>\n",
       "    <tr>\n",
       "      <th>2</th>\n",
       "      <td>9af95d2a-e42c-45ff-a4c9-5c38765df4a4</td>\n",
       "      <td>it was good app but it have some issues like i...</td>\n",
       "      <td>2</td>\n",
       "      <td>0</td>\n",
       "      <td>2025-06-04 15:56:02</td>\n",
       "      <td>Commercial Bank of Ethiopia</td>\n",
       "      <td>5.1.0</td>\n",
       "    </tr>\n",
       "    <tr>\n",
       "      <th>3</th>\n",
       "      <td>067d3e52-3586-4e02-b088-0411f25d34fb</td>\n",
       "      <td>dedeb</td>\n",
       "      <td>5</td>\n",
       "      <td>0</td>\n",
       "      <td>2025-06-04 15:04:02</td>\n",
       "      <td>Commercial Bank of Ethiopia</td>\n",
       "      <td>5.1.0</td>\n",
       "    </tr>\n",
       "    <tr>\n",
       "      <th>4</th>\n",
       "      <td>88a64315-9de3-4a35-ac27-5ff37c2833b6</td>\n",
       "      <td>good</td>\n",
       "      <td>5</td>\n",
       "      <td>0</td>\n",
       "      <td>2025-06-04 14:59:40</td>\n",
       "      <td>Commercial Bank of Ethiopia</td>\n",
       "      <td>5.1.0</td>\n",
       "    </tr>\n",
       "    <tr>\n",
       "      <th>...</th>\n",
       "      <td>...</td>\n",
       "      <td>...</td>\n",
       "      <td>...</td>\n",
       "      <td>...</td>\n",
       "      <td>...</td>\n",
       "      <td>...</td>\n",
       "      <td>...</td>\n",
       "    </tr>\n",
       "    <tr>\n",
       "      <th>7487</th>\n",
       "      <td>9a523ed6-5409-4e0d-869e-a891ff3a50d3</td>\n",
       "      <td>its good</td>\n",
       "      <td>5</td>\n",
       "      <td>4</td>\n",
       "      <td>2014-02-22 06:29:12</td>\n",
       "      <td>Commercial Bank of Ethiopia</td>\n",
       "      <td>5.1.0</td>\n",
       "    </tr>\n",
       "    <tr>\n",
       "      <th>7488</th>\n",
       "      <td>ff159a3e-c6a1-4e3a-a442-6edef4f57dba</td>\n",
       "      <td>Good</td>\n",
       "      <td>5</td>\n",
       "      <td>3</td>\n",
       "      <td>2014-02-21 23:37:07</td>\n",
       "      <td>Commercial Bank of Ethiopia</td>\n",
       "      <td>5.1.0</td>\n",
       "    </tr>\n",
       "    <tr>\n",
       "      <th>7489</th>\n",
       "      <td>3307f1db-83f8-48ff-989e-f2549795bcf2</td>\n",
       "      <td>can any one explain me how this thing work? cu...</td>\n",
       "      <td>1</td>\n",
       "      <td>25</td>\n",
       "      <td>2014-02-20 23:03:13</td>\n",
       "      <td>Commercial Bank of Ethiopia</td>\n",
       "      <td>5.1.0</td>\n",
       "    </tr>\n",
       "    <tr>\n",
       "      <th>7490</th>\n",
       "      <td>d4b55ded-e363-4861-a4f2-b3bf36bbc234</td>\n",
       "      <td>It might be good</td>\n",
       "      <td>3</td>\n",
       "      <td>4</td>\n",
       "      <td>2014-02-19 18:35:23</td>\n",
       "      <td>Commercial Bank of Ethiopia</td>\n",
       "      <td>5.1.0</td>\n",
       "    </tr>\n",
       "    <tr>\n",
       "      <th>7491</th>\n",
       "      <td>53d33b1a-017d-40a8-892a-f2060f715eda</td>\n",
       "      <td>it's ok letst tecnologey.</td>\n",
       "      <td>4</td>\n",
       "      <td>5</td>\n",
       "      <td>2014-02-17 05:49:07</td>\n",
       "      <td>Commercial Bank of Ethiopia</td>\n",
       "      <td>5.1.0</td>\n",
       "    </tr>\n",
       "  </tbody>\n",
       "</table>\n",
       "<p>7492 rows × 7 columns</p>\n",
       "</div>"
      ],
      "text/plain": [
       "                                  reviewId  \\\n",
       "0     54f070b9-895f-40e8-be18-acb16f8af7fa   \n",
       "1     aa72fd94-aca8-48b2-bae2-29ad7633c7fb   \n",
       "2     9af95d2a-e42c-45ff-a4c9-5c38765df4a4   \n",
       "3     067d3e52-3586-4e02-b088-0411f25d34fb   \n",
       "4     88a64315-9de3-4a35-ac27-5ff37c2833b6   \n",
       "...                                    ...   \n",
       "7487  9a523ed6-5409-4e0d-869e-a891ff3a50d3   \n",
       "7488  ff159a3e-c6a1-4e3a-a442-6edef4f57dba   \n",
       "7489  3307f1db-83f8-48ff-989e-f2549795bcf2   \n",
       "7490  d4b55ded-e363-4861-a4f2-b3bf36bbc234   \n",
       "7491  53d33b1a-017d-40a8-892a-f2060f715eda   \n",
       "\n",
       "                                                content  score  thumbsUpCount  \\\n",
       "0                          Best Mobile Banking app ever      5              0   \n",
       "1                                                  good      5              0   \n",
       "2     it was good app but it have some issues like i...      2              0   \n",
       "3                                                 dedeb      5              0   \n",
       "4                                                  good      5              0   \n",
       "...                                                 ...    ...            ...   \n",
       "7487                                           its good      5              4   \n",
       "7488                                               Good      5              3   \n",
       "7489  can any one explain me how this thing work? cu...      1             25   \n",
       "7490                                   It might be good      3              4   \n",
       "7491                          it's ok letst tecnologey.      4              5   \n",
       "\n",
       "             review_date                     app_name app_version  \n",
       "0    2025-06-04 16:50:52  Commercial Bank of Ethiopia       5.1.0  \n",
       "1    2025-06-04 16:00:15  Commercial Bank of Ethiopia       5.1.0  \n",
       "2    2025-06-04 15:56:02  Commercial Bank of Ethiopia       5.1.0  \n",
       "3    2025-06-04 15:04:02  Commercial Bank of Ethiopia       5.1.0  \n",
       "4    2025-06-04 14:59:40  Commercial Bank of Ethiopia       5.1.0  \n",
       "...                  ...                          ...         ...  \n",
       "7487 2014-02-22 06:29:12  Commercial Bank of Ethiopia       5.1.0  \n",
       "7488 2014-02-21 23:37:07  Commercial Bank of Ethiopia       5.1.0  \n",
       "7489 2014-02-20 23:03:13  Commercial Bank of Ethiopia       5.1.0  \n",
       "7490 2014-02-19 18:35:23  Commercial Bank of Ethiopia       5.1.0  \n",
       "7491 2014-02-17 05:49:07  Commercial Bank of Ethiopia       5.1.0  \n",
       "\n",
       "[7492 rows x 7 columns]"
      ]
     },
     "execution_count": 18,
     "metadata": {},
     "output_type": "execute_result"
    }
   ],
   "source": [
    "cbe_review"
   ]
  },
  {
   "cell_type": "code",
   "execution_count": 19,
   "id": "60a04166",
   "metadata": {},
   "outputs": [
    {
     "data": {
      "application/vnd.microsoft.datawrangler.viewer.v0+json": {
       "columns": [
        {
         "name": "thumbsUpCount",
         "rawType": "int64",
         "type": "integer"
        },
        {
         "name": "count",
         "rawType": "int64",
         "type": "integer"
        }
       ],
       "ref": "cf9fd70f-a377-40ab-bc40-7b54fd637b7f",
       "rows": [
        [
         "1",
         "3636"
        ],
        [
         "0",
         "1844"
        ],
        [
         "2",
         "951"
        ],
        [
         "3",
         "243"
        ],
        [
         "4",
         "160"
        ],
        [
         "5",
         "100"
        ],
        [
         "6",
         "58"
        ],
        [
         "7",
         "54"
        ],
        [
         "8",
         "37"
        ],
        [
         "10",
         "30"
        ],
        [
         "9",
         "28"
        ],
        [
         "12",
         "24"
        ],
        [
         "11",
         "21"
        ],
        [
         "14",
         "15"
        ],
        [
         "13",
         "14"
        ],
        [
         "17",
         "11"
        ],
        [
         "20",
         "10"
        ],
        [
         "15",
         "9"
        ],
        [
         "25",
         "9"
        ],
        [
         "37",
         "8"
        ],
        [
         "22",
         "8"
        ],
        [
         "19",
         "7"
        ],
        [
         "24",
         "7"
        ],
        [
         "28",
         "6"
        ],
        [
         "31",
         "6"
        ],
        [
         "55",
         "5"
        ],
        [
         "16",
         "5"
        ],
        [
         "32",
         "5"
        ],
        [
         "26",
         "5"
        ],
        [
         "18",
         "4"
        ],
        [
         "23",
         "4"
        ],
        [
         "29",
         "4"
        ],
        [
         "33",
         "4"
        ],
        [
         "67",
         "3"
        ],
        [
         "95",
         "3"
        ],
        [
         "27",
         "3"
        ],
        [
         "39",
         "3"
        ],
        [
         "58",
         "3"
        ],
        [
         "34",
         "3"
        ],
        [
         "30",
         "3"
        ],
        [
         "36",
         "3"
        ],
        [
         "53",
         "2"
        ],
        [
         "61",
         "2"
        ],
        [
         "35",
         "2"
        ],
        [
         "48",
         "2"
        ],
        [
         "42",
         "2"
        ],
        [
         "233",
         "2"
        ],
        [
         "71",
         "2"
        ],
        [
         "207",
         "2"
        ],
        [
         "21",
         "2"
        ]
       ],
       "shape": {
        "columns": 1,
        "rows": 156
       }
      },
      "text/plain": [
       "thumbsUpCount\n",
       "1      3636\n",
       "0      1844\n",
       "2       951\n",
       "3       243\n",
       "4       160\n",
       "       ... \n",
       "50        1\n",
       "101       1\n",
       "77        1\n",
       "56        1\n",
       "117       1\n",
       "Name: count, Length: 156, dtype: int64"
      ]
     },
     "execution_count": 19,
     "metadata": {},
     "output_type": "execute_result"
    }
   ],
   "source": [
    "cbe_review['thumbsUpCount'].value_counts()"
   ]
  },
  {
   "cell_type": "code",
   "execution_count": null,
   "id": "eb84663c",
   "metadata": {},
   "outputs": [],
   "source": []
  }
 ],
 "metadata": {
  "language_info": {
   "name": "python"
  }
 },
 "nbformat": 4,
 "nbformat_minor": 5
}
